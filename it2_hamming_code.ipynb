{
  "nbformat": 4,
  "nbformat_minor": 0,
  "metadata": {
    "colab": {
      "name": "it2.ipynb",
      "provenance": [],
      "collapsed_sections": [],
      "authorship_tag": "ABX9TyPFU31vl0IcrxDHf6VIBwIb",
      "include_colab_link": true
    },
    "kernelspec": {
      "name": "python3",
      "display_name": "Python 3"
    }
  },
  "cells": [
    {
      "cell_type": "markdown",
      "metadata": {
        "id": "view-in-github",
        "colab_type": "text"
      },
      "source": [
        "<a href=\"https://colab.research.google.com/github/kojiyam/information-theory/blob/main/it2.ipynb\" target=\"_parent\"><img src=\"https://colab.research.google.com/assets/colab-badge.svg\" alt=\"Open In Colab\"/></a>"
      ]
    },
    {
      "cell_type": "markdown",
      "metadata": {
        "id": "MqdnWBdBjvWQ"
      },
      "source": [
        "## ハミング符号\n",
        "\n",
        "教科書だとインデックスは1から\n",
        "\n",
        "Pythonはインデックスは0から始まるので，読み替え必要\n",
        "\n",
        "Shift+Enterで実行"
      ]
    },
    {
      "cell_type": "code",
      "metadata": {
        "id": "VAWJdVG6jH2T"
      },
      "source": [
        "# 今回だけであればNumPyを使うほどではなく，若干可読性が下がるが\n",
        "# 今後の講義でNumPyを使うので，混乱しないようにあえてNumPyベースで記載しています\n",
        "import numpy as np"
      ],
      "execution_count": 2,
      "outputs": []
    },
    {
      "cell_type": "markdown",
      "metadata": {
        "id": "BkgJlDuw4lpf"
      },
      "source": [
        "$ x_1, x_2, x_3, x_4 $"
      ]
    },
    {
      "cell_type": "code",
      "metadata": {
        "id": "j3W76FIdg_9a"
      },
      "source": [
        "X = np.array([1,0,1,0])"
      ],
      "execution_count": 3,
      "outputs": []
    },
    {
      "cell_type": "code",
      "metadata": {
        "colab": {
          "base_uri": "https://localhost:8080/"
        },
        "id": "kbqtZs6JbtIr",
        "outputId": "53bd5e54-e25e-4c2d-d89f-1fe4e827bda9"
      },
      "source": [
        "print(X)"
      ],
      "execution_count": 4,
      "outputs": [
        {
          "output_type": "stream",
          "text": [
            "[1 0 1 0]\n"
          ],
          "name": "stdout"
        }
      ]
    },
    {
      "cell_type": "markdown",
      "metadata": {
        "id": "1x8FSxuR4rqK"
      },
      "source": [
        "$ c_1, c_2, c_3 $"
      ]
    },
    {
      "cell_type": "code",
      "metadata": {
        "id": "HL25RxW6hH3p"
      },
      "source": [
        "c1 = np.fmod(X[0]+X[1]+X[2],      2)\n",
        "c2 = np.fmod(     X[1]+X[2]+X[3], 2)\n",
        "c3 = np.fmod(X[0]+X[1]     +X[3], 2)\n",
        "C = np.array([c1, c2, c3])"
      ],
      "execution_count": 19,
      "outputs": []
    },
    {
      "cell_type": "code",
      "metadata": {
        "id": "G02oC-_HilU5",
        "colab": {
          "base_uri": "https://localhost:8080/"
        },
        "outputId": "287217f3-66ef-4580-96d3-9f632b9d3141"
      },
      "source": [
        "print(C)"
      ],
      "execution_count": 20,
      "outputs": [
        {
          "output_type": "stream",
          "text": [
            "[0 1 1]\n"
          ],
          "name": "stdout"
        }
      ]
    },
    {
      "cell_type": "code",
      "metadata": {
        "id": "04f9pgkO5Nj-"
      },
      "source": [
        "W = np.concatenate([X, C])"
      ],
      "execution_count": 21,
      "outputs": []
    },
    {
      "cell_type": "code",
      "metadata": {
        "colab": {
          "base_uri": "https://localhost:8080/"
        },
        "id": "QRto6LFQ5pBD",
        "outputId": "80910e70-fc60-44a8-fcd2-d41377246dd7"
      },
      "source": [
        "print(W)"
      ],
      "execution_count": 22,
      "outputs": [
        {
          "output_type": "stream",
          "text": [
            "[1 0 1 0 0 1 1]\n"
          ],
          "name": "stdout"
        }
      ]
    },
    {
      "cell_type": "code",
      "metadata": {
        "colab": {
          "base_uri": "https://localhost:8080/"
        },
        "id": "ypgplTEZ5syC",
        "outputId": "54b43efc-60a6-4c71-facb-e33c88283901"
      },
      "source": [
        "E = np.array([0,0,1,0,0,0,0])\n",
        "Y = np.fmod(W + E, 2)\n",
        "print(Y)"
      ],
      "execution_count": 23,
      "outputs": [
        {
          "output_type": "stream",
          "text": [
            "[1 0 0 0 0 1 1]\n"
          ],
          "name": "stdout"
        }
      ]
    },
    {
      "cell_type": "markdown",
      "metadata": {
        "id": "4izUtKYBlKAk"
      },
      "source": [
        "## シンドローム"
      ]
    },
    {
      "cell_type": "code",
      "metadata": {
        "id": "UnpOhkWfkVPo",
        "colab": {
          "base_uri": "https://localhost:8080/"
        },
        "outputId": "58a42aec-c61d-4e54-ea41-7b9fbfce1925"
      },
      "source": [
        "s1 = np.fmod(Y[0]+Y[1]+Y[2]     +Y[4]          ,2)\n",
        "s2 = np.fmod(     Y[1]+Y[2]+Y[3]     +Y[5]     ,2)\n",
        "s3 = np.fmod(Y[0]+Y[1]     +Y[3]+         +Y[6],2)\n",
        "print([s1,s2,s3])"
      ],
      "execution_count": 18,
      "outputs": [
        {
          "output_type": "stream",
          "text": [
            "[1, 1, 0]\n"
          ],
          "name": "stdout"
        }
      ]
    }
  ]
}
