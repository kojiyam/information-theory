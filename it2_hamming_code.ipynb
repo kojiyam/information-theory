{
  "nbformat": 4,
  "nbformat_minor": 0,
  "metadata": {
    "colab": {
      "name": "it2_hamming_code.ipynb",
      "provenance": [],
      "collapsed_sections": [],
      "authorship_tag": "ABX9TyNLE5Fersy9aTPCvuEzS0oC",
      "include_colab_link": true
    },
    "kernelspec": {
      "name": "python3",
      "display_name": "Python 3"
    }
  },
  "cells": [
    {
      "cell_type": "markdown",
      "metadata": {
        "id": "view-in-github",
        "colab_type": "text"
      },
      "source": [
        "<a href=\"https://colab.research.google.com/github/kojiyam/information-theory/blob/main/it2_hamming_code.ipynb\" target=\"_parent\"><img src=\"https://colab.research.google.com/assets/colab-badge.svg\" alt=\"Open In Colab\"/></a>"
      ]
    },
    {
      "cell_type": "markdown",
      "metadata": {
        "id": "MqdnWBdBjvWQ"
      },
      "source": [
        "## ハミング符号\n",
        "\n",
        "教科書だとインデックスは1から\n",
        "\n",
        "Pythonはインデックスは0から始まるので，読み替え必要\n",
        "\n",
        "Shift+Enterで実行"
      ]
    },
    {
      "cell_type": "code",
      "metadata": {
        "id": "VAWJdVG6jH2T"
      },
      "source": [
        "# 今回だけであればNumPyを使うほどではなく，若干可読性が下がるが\n",
        "# 今後の講義でNumPyを使うので，混乱しないようにあえてNumPyベースで記載しています\n",
        "import numpy as np"
      ],
      "execution_count": 1,
      "outputs": []
    },
    {
      "cell_type": "markdown",
      "metadata": {
        "id": "BkgJlDuw4lpf"
      },
      "source": [
        "$ x_1, x_2, x_3, x_4 $"
      ]
    },
    {
      "cell_type": "code",
      "metadata": {
        "id": "j3W76FIdg_9a"
      },
      "source": [
        "X = np.array([1,0,1,0])"
      ],
      "execution_count": 2,
      "outputs": []
    },
    {
      "cell_type": "code",
      "metadata": {
        "colab": {
          "base_uri": "https://localhost:8080/"
        },
        "id": "kbqtZs6JbtIr",
        "outputId": "c5bebac3-d70e-40e3-ad53-99e1994ee7ea"
      },
      "source": [
        "print(X)"
      ],
      "execution_count": 3,
      "outputs": [
        {
          "output_type": "stream",
          "name": "stdout",
          "text": [
            "[1 0 1 0]\n"
          ]
        }
      ]
    },
    {
      "cell_type": "markdown",
      "metadata": {
        "id": "1x8FSxuR4rqK"
      },
      "source": [
        "$ c_1, c_2, c_3 $"
      ]
    },
    {
      "cell_type": "code",
      "metadata": {
        "id": "HL25RxW6hH3p"
      },
      "source": [
        "c1 = np.fmod(X[0]+X[1]+X[2],      2)\n",
        "c2 = np.fmod(     X[1]+X[2]+X[3], 2)\n",
        "c3 = np.fmod(X[0]+X[1]     +X[3], 2)\n",
        "C = np.array([c1, c2, c3])"
      ],
      "execution_count": 4,
      "outputs": []
    },
    {
      "cell_type": "code",
      "metadata": {
        "id": "G02oC-_HilU5",
        "colab": {
          "base_uri": "https://localhost:8080/"
        },
        "outputId": "f7635dab-079c-4538-9b11-c11269a05fa0"
      },
      "source": [
        "print(C)"
      ],
      "execution_count": 5,
      "outputs": [
        {
          "output_type": "stream",
          "name": "stdout",
          "text": [
            "[0 1 1]\n"
          ]
        }
      ]
    },
    {
      "cell_type": "code",
      "metadata": {
        "id": "04f9pgkO5Nj-"
      },
      "source": [
        "W = np.concatenate([X, C])"
      ],
      "execution_count": 6,
      "outputs": []
    },
    {
      "cell_type": "code",
      "metadata": {
        "colab": {
          "base_uri": "https://localhost:8080/"
        },
        "id": "QRto6LFQ5pBD",
        "outputId": "a7b778c5-1679-40d9-8361-c797ceb3b31b"
      },
      "source": [
        "print(W)"
      ],
      "execution_count": 7,
      "outputs": [
        {
          "output_type": "stream",
          "name": "stdout",
          "text": [
            "[1 0 1 0 0 1 1]\n"
          ]
        }
      ]
    },
    {
      "cell_type": "code",
      "metadata": {
        "colab": {
          "base_uri": "https://localhost:8080/"
        },
        "id": "ypgplTEZ5syC",
        "outputId": "a2232307-5e01-4cba-89b6-913ec401dae7"
      },
      "source": [
        "E = np.array([0,0,1,0,0,0,0])\n",
        "Y = np.fmod(W + E, 2)\n",
        "print(Y)"
      ],
      "execution_count": 8,
      "outputs": [
        {
          "output_type": "stream",
          "name": "stdout",
          "text": [
            "[1 0 0 0 0 1 1]\n"
          ]
        }
      ]
    },
    {
      "cell_type": "markdown",
      "metadata": {
        "id": "4izUtKYBlKAk"
      },
      "source": [
        "## シンドローム"
      ]
    },
    {
      "cell_type": "code",
      "metadata": {
        "id": "UnpOhkWfkVPo",
        "colab": {
          "base_uri": "https://localhost:8080/"
        },
        "outputId": "6ba8dca1-a6d8-48e3-b7e1-dcd564b7233d"
      },
      "source": [
        "s1 = np.fmod(Y[0]+Y[1]+Y[2]     +Y[4]          ,2)\n",
        "s2 = np.fmod(     Y[1]+Y[2]+Y[3]     +Y[5]     ,2)\n",
        "s3 = np.fmod(Y[0]+Y[1]     +Y[3]+         +Y[6],2)\n",
        "print([s1,s2,s3])"
      ],
      "execution_count": 9,
      "outputs": [
        {
          "output_type": "stream",
          "name": "stdout",
          "text": [
            "[1, 1, 0]\n"
          ]
        }
      ]
    },
    {
      "cell_type": "markdown",
      "metadata": {
        "id": "HDAhKTjf8P2M"
      },
      "source": [
        "# 行列表記 7.1.4"
      ]
    },
    {
      "cell_type": "code",
      "metadata": {
        "colab": {
          "base_uri": "https://localhost:8080/"
        },
        "id": "CgBsOpP08PfK",
        "outputId": "b7fea199-2e3b-47a1-f048-785afceb4532"
      },
      "source": [
        "G = np.array([[1,0,0,0,1,0,1],[0,1,0,0,1,1,1],[0,0,1,0,1,1,0],[0,0,0,1,0,1,1]])\n",
        "print(G)"
      ],
      "execution_count": 10,
      "outputs": [
        {
          "output_type": "stream",
          "name": "stdout",
          "text": [
            "[[1 0 0 0 1 0 1]\n",
            " [0 1 0 0 1 1 1]\n",
            " [0 0 1 0 1 1 0]\n",
            " [0 0 0 1 0 1 1]]\n"
          ]
        }
      ]
    },
    {
      "cell_type": "code",
      "metadata": {
        "colab": {
          "base_uri": "https://localhost:8080/"
        },
        "id": "SuehaD8s8OIG",
        "outputId": "4d999d6a-3b52-40b9-d7a5-3874c1d26e07"
      },
      "source": [
        "W2 = np.fmod(X @ G, 2)\n",
        "print(W2)"
      ],
      "execution_count": 11,
      "outputs": [
        {
          "output_type": "stream",
          "name": "stdout",
          "text": [
            "[1 0 1 0 0 1 1]\n"
          ]
        }
      ]
    },
    {
      "cell_type": "code",
      "metadata": {
        "id": "_34JLr1K8gju"
      },
      "source": [
        "H = np.array([[1,1,1,0,1,0,0],[0,1,1,1,0,1,0],[1,1,0,1,0,0,1]])"
      ],
      "execution_count": 12,
      "outputs": []
    },
    {
      "cell_type": "markdown",
      "metadata": {
        "id": "xhAr7fxK9NZ-"
      },
      "source": [
        "## 検査方程式 (7.27)"
      ]
    },
    {
      "cell_type": "code",
      "metadata": {
        "colab": {
          "base_uri": "https://localhost:8080/"
        },
        "id": "Z87rrTKz88Ua",
        "outputId": "d465dfd1-fbba-42d5-b8bf-59c55e23177d"
      },
      "source": [
        "np.fmod(W2 @ H.T, 2)"
      ],
      "execution_count": 13,
      "outputs": [
        {
          "output_type": "execute_result",
          "data": {
            "text/plain": [
              "array([0, 0, 0])"
            ]
          },
          "metadata": {},
          "execution_count": 13
        }
      ]
    },
    {
      "cell_type": "code",
      "metadata": {
        "id": "JyIrJ-7-9CjP"
      },
      "source": [
        "S = np.fmod(Y@H.T, 2)"
      ],
      "execution_count": 14,
      "outputs": []
    },
    {
      "cell_type": "code",
      "metadata": {
        "colab": {
          "base_uri": "https://localhost:8080/"
        },
        "id": "9hfCTHc29b5u",
        "outputId": "c96fce2f-91b0-44a0-8a09-86bf3585d05a"
      },
      "source": [
        "print(S)"
      ],
      "execution_count": 15,
      "outputs": [
        {
          "output_type": "stream",
          "name": "stdout",
          "text": [
            "[1 1 0]\n"
          ]
        }
      ]
    },
    {
      "cell_type": "code",
      "metadata": {
        "id": "hY2P8EXi9eAm"
      },
      "source": [
        ""
      ],
      "execution_count": 15,
      "outputs": []
    }
  ]
}