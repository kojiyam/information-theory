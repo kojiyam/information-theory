{
  "nbformat": 4,
  "nbformat_minor": 0,
  "metadata": {
    "colab": {
      "name": "it6.ipynb",
      "provenance": [],
      "include_colab_link": true
    },
    "kernelspec": {
      "display_name": "Python 3",
      "language": "python",
      "name": "python3"
    },
    "language_info": {
      "codemirror_mode": {
        "name": "ipython",
        "version": 3
      },
      "file_extension": ".py",
      "mimetype": "text/x-python",
      "name": "python",
      "nbconvert_exporter": "python",
      "pygments_lexer": "ipython3",
      "version": "3.8.5"
    }
  },
  "cells": [
    {
      "cell_type": "markdown",
      "metadata": {
        "id": "view-in-github",
        "colab_type": "text"
      },
      "source": [
        "<a href=\"https://colab.research.google.com/github/kojiyam/information-theory/blob/main/it6.ipynb\" target=\"_parent\"><img src=\"https://colab.research.google.com/assets/colab-badge.svg\" alt=\"Open In Colab\"/></a>"
      ]
    },
    {
      "cell_type": "code",
      "metadata": {
        "id": "I0UahaQ6Y2Er"
      },
      "source": [
        "import numpy as np"
      ],
      "execution_count": null,
      "outputs": []
    },
    {
      "cell_type": "markdown",
      "metadata": {
        "id": "6gr1hPHhpX8N"
      },
      "source": [
        "$ p I(p) = p \\log_2 (1/p) $\n",
        "を関数 `pI` として定義．pI(0)=0 としたいため．\n",
        "\n",
        "単純にやると `0*np.log2(0)=nan` となる"
      ]
    },
    {
      "cell_type": "code",
      "metadata": {
        "id": "UWYcjL2NpX8N"
      },
      "source": [
        "def pI_(p):\n",
        "    if p==0:\n",
        "        return 0\n",
        "    else:\n",
        "        return p*np.log2(1/p)\n",
        "pI = np.vectorize(pI_) # numpy arrayを引数に取るため"
      ],
      "execution_count": null,
      "outputs": []
    },
    {
      "cell_type": "markdown",
      "metadata": {
        "id": "2lJdjbBhah7Y"
      },
      "source": [
        "## SLD. 43\n",
        "$p_y = P_Y(y)$"
      ]
    },
    {
      "cell_type": "code",
      "metadata": {
        "colab": {
          "base_uri": "https://localhost:8080/"
        },
        "id": "TQiKgiPxY6kL",
        "outputId": "b57b0def-15f3-4f9b-ea41-0023e93966c9"
      },
      "source": [
        "py = np.array([1/4, 0, 1/8, 1/2, 1/8])\n",
        "np.sum(py)"
      ],
      "execution_count": null,
      "outputs": [
        {
          "output_type": "execute_result",
          "data": {
            "text/plain": [
              "1.0"
            ]
          },
          "metadata": {
            "tags": []
          },
          "execution_count": 16
        }
      ]
    },
    {
      "cell_type": "markdown",
      "metadata": {
        "id": "rNc-pmir0thT"
      },
      "source": [
        "$ p_y \\log_2 (1/p_y) $"
      ]
    },
    {
      "cell_type": "code",
      "metadata": {
        "colab": {
          "base_uri": "https://localhost:8080/"
        },
        "id": "VFk9_t-6pX8O",
        "outputId": "d2f20bed-bd77-4f24-edfb-7a47058b1563"
      },
      "source": [
        "print( pI(py) )"
      ],
      "execution_count": null,
      "outputs": [
        {
          "output_type": "stream",
          "text": [
            "[0.5   0.    0.375 0.5   0.375]\n"
          ],
          "name": "stdout"
        }
      ]
    },
    {
      "cell_type": "markdown",
      "metadata": {
        "id": "UvAeigFm0-Ct"
      },
      "source": [
        "$ \\displaystyle \\sum_{y} p_y \\log_2 (1/p_y) $"
      ]
    },
    {
      "cell_type": "code",
      "metadata": {
        "colab": {
          "base_uri": "https://localhost:8080/"
        },
        "id": "UYUduYf0pX8P",
        "outputId": "6dc57160-47f5-4fb2-c578-565ec145ebe3"
      },
      "source": [
        "np.sum( pI(py) )"
      ],
      "execution_count": null,
      "outputs": [
        {
          "output_type": "execute_result",
          "data": {
            "text/plain": [
              "1.75"
            ]
          },
          "metadata": {
            "tags": []
          },
          "execution_count": 13
        }
      ]
    },
    {
      "cell_type": "markdown",
      "metadata": {
        "id": "mcgL5WaNaVLy"
      },
      "source": [
        "## SLD. 46 同時確率 $P_{X,Y}(x,y)$"
      ]
    },
    {
      "cell_type": "code",
      "metadata": {
        "colab": {
          "base_uri": "https://localhost:8080/"
        },
        "id": "Or8pfbPxaMFa",
        "outputId": "104ef17e-a003-4c45-9b20-ac59948e1623"
      },
      "source": [
        "pxy = np.array([[1/8, 0, 1/16, 1/4, 1/16], [1/16, 1/16, 0, 1/4, 1/8]])\n",
        "np.sum(pxy)"
      ],
      "execution_count": null,
      "outputs": [
        {
          "output_type": "execute_result",
          "data": {
            "text/plain": [
              "1.0"
            ]
          },
          "metadata": {
            "tags": []
          },
          "execution_count": 15
        }
      ]
    },
    {
      "cell_type": "code",
      "metadata": {
        "colab": {
          "base_uri": "https://localhost:8080/"
        },
        "id": "NnKg36Ru1WLQ",
        "outputId": "8a87ddd3-76a9-4679-a924-b30011ad8447"
      },
      "source": [
        "print(pxy)"
      ],
      "execution_count": null,
      "outputs": [
        {
          "output_type": "stream",
          "text": [
            "[[0.125  0.     0.0625 0.25   0.0625]\n",
            " [0.0625 0.0625 0.     0.25   0.125 ]]\n"
          ],
          "name": "stdout"
        }
      ]
    },
    {
      "cell_type": "markdown",
      "metadata": {
        "id": "hNOfPli7pX8P"
      },
      "source": [
        "### 同時エントロピー\n",
        "\n",
        "$ H(X,Y) $"
      ]
    },
    {
      "cell_type": "code",
      "metadata": {
        "colab": {
          "base_uri": "https://localhost:8080/"
        },
        "id": "qXrpJAAqpX8P",
        "outputId": "2e571c70-7316-462c-97ba-0c448d3b2992"
      },
      "source": [
        "np.sum( pI(pxy) )"
      ],
      "execution_count": null,
      "outputs": [
        {
          "output_type": "execute_result",
          "data": {
            "text/plain": [
              "2.75"
            ]
          },
          "metadata": {
            "tags": []
          },
          "execution_count": 18
        }
      ]
    },
    {
      "cell_type": "markdown",
      "metadata": {
        "id": "AnYUjmavpX8P"
      },
      "source": [
        "## 周辺確率 $ P_Y(y) $ SLD. 48\n",
        "\n",
        "$P_Y(y)$"
      ]
    },
    {
      "cell_type": "code",
      "metadata": {
        "colab": {
          "base_uri": "https://localhost:8080/"
        },
        "id": "WJ4qfM9MpX8Q",
        "outputId": "dc08ad1b-c7e5-4728-83ce-f91d8904b2eb"
      },
      "source": [
        "py = np.sum(pxy, axis=0) # 列方向に足す\n",
        "print(py)"
      ],
      "execution_count": null,
      "outputs": [
        {
          "output_type": "stream",
          "text": [
            "[0.1875 0.0625 0.0625 0.5    0.1875]\n"
          ],
          "name": "stdout"
        }
      ]
    },
    {
      "cell_type": "code",
      "metadata": {
        "colab": {
          "base_uri": "https://localhost:8080/"
        },
        "id": "WbFR6Rq4pX8Q",
        "outputId": "8a7906d0-de79-4118-d205-2138134bf74e"
      },
      "source": [
        "np.sum( pI(py) )"
      ],
      "execution_count": null,
      "outputs": [
        {
          "output_type": "execute_result",
          "data": {
            "text/plain": [
              "1.9056390622295662"
            ]
          },
          "metadata": {
            "tags": []
          },
          "execution_count": 22
        }
      ]
    },
    {
      "cell_type": "markdown",
      "metadata": {
        "id": "I5rKbMXB1oX2"
      },
      "source": [
        "# 周辺確率 $ P_X(x) $"
      ]
    },
    {
      "cell_type": "code",
      "metadata": {
        "colab": {
          "base_uri": "https://localhost:8080/"
        },
        "id": "ajJSWbZMpX8Q",
        "outputId": "d04114d5-d08d-4634-e789-76c07cf8e929"
      },
      "source": [
        "print(np.sum(pxy, axis=1)) # 行方向に足す"
      ],
      "execution_count": null,
      "outputs": [
        {
          "output_type": "stream",
          "text": [
            "[0.5 0.5]\n"
          ],
          "name": "stdout"
        }
      ]
    },
    {
      "cell_type": "markdown",
      "metadata": {
        "id": "EMjNLwOGpX8Q"
      },
      "source": [
        "## 条件付き確率 $P_{X|Y}(x|y) $ SLD. 50"
      ]
    },
    {
      "cell_type": "code",
      "metadata": {
        "colab": {
          "base_uri": "https://localhost:8080/"
        },
        "id": "ZlBiVXSkpX8Q",
        "outputId": "731c0ef6-3cbd-4b7f-c82c-9ebd9af257c3"
      },
      "source": [
        "px1y = pxy/py\n",
        "print(px1y)"
      ],
      "execution_count": null,
      "outputs": [
        {
          "output_type": "stream",
          "text": [
            "[[0.66666667 0.         1.         0.5        0.33333333]\n",
            " [0.33333333 1.         0.         0.5        0.66666667]]\n"
          ],
          "name": "stdout"
        }
      ]
    },
    {
      "cell_type": "code",
      "metadata": {
        "colab": {
          "base_uri": "https://localhost:8080/"
        },
        "id": "YlmgDZYDpX8Q",
        "outputId": "a536e71a-de79-4264-a32b-ca78fb9686f7"
      },
      "source": [
        "print( pI(px1y) )"
      ],
      "execution_count": null,
      "outputs": [
        {
          "output_type": "stream",
          "text": [
            "[[0.389975   0.         0.         0.5        0.52832083]\n",
            " [0.52832083 0.         0.         0.5        0.389975  ]]\n"
          ],
          "name": "stdout"
        }
      ]
    },
    {
      "cell_type": "code",
      "metadata": {
        "id": "iHc96rdh1-ot"
      },
      "source": [
        ""
      ],
      "execution_count": null,
      "outputs": []
    }
  ]
}