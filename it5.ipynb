{
  "nbformat": 4,
  "nbformat_minor": 0,
  "metadata": {
    "colab": {
      "name": "it5.ipynb",
      "provenance": [],
      "collapsed_sections": [],
      "authorship_tag": "ABX9TyP72yE3bKDgmXcB2cKsngHg",
      "include_colab_link": true
    },
    "kernelspec": {
      "name": "python3",
      "display_name": "Python 3"
    }
  },
  "cells": [
    {
      "cell_type": "markdown",
      "metadata": {
        "id": "view-in-github",
        "colab_type": "text"
      },
      "source": [
        "<a href=\"https://colab.research.google.com/github/kojiyam/information-theory/blob/main/it5.ipynb\" target=\"_parent\"><img src=\"https://colab.research.google.com/assets/colab-badge.svg\" alt=\"Open In Colab\"/></a>"
      ]
    },
    {
      "cell_type": "markdown",
      "metadata": {
        "id": "BSPHqrVrsm-w"
      },
      "source": [
        "## $p=0$の場合のエントロピーの計算\n",
        "\n",
        "$ \\displaystyle \\lim_{x\\to+0} x \\log x $"
      ]
    },
    {
      "cell_type": "code",
      "metadata": {
        "id": "qPIlyZMxrBOG"
      },
      "source": [
        "import numpy as np"
      ],
      "execution_count": null,
      "outputs": []
    },
    {
      "cell_type": "markdown",
      "metadata": {
        "id": "XDbuZspYtI1z"
      },
      "source": [
        "以下のように，NumPyでは計算できない"
      ]
    },
    {
      "cell_type": "code",
      "metadata": {
        "id": "CdkOmvQbrPvJ",
        "colab": {
          "base_uri": "https://localhost:8080/"
        },
        "outputId": "3d45a692-53cd-46e0-ce1a-08562a9e398a"
      },
      "source": [
        "np.log2(0)"
      ],
      "execution_count": null,
      "outputs": [
        {
          "output_type": "stream",
          "text": [
            "/usr/local/lib/python3.6/dist-packages/ipykernel_launcher.py:1: RuntimeWarning: divide by zero encountered in log2\n",
            "  \"\"\"Entry point for launching an IPython kernel.\n"
          ],
          "name": "stderr"
        },
        {
          "output_type": "execute_result",
          "data": {
            "text/plain": [
              "-inf"
            ]
          },
          "metadata": {
            "tags": []
          },
          "execution_count": 8
        }
      ]
    },
    {
      "cell_type": "code",
      "metadata": {
        "id": "QojgtjMTrF5i",
        "colab": {
          "base_uri": "https://localhost:8080/"
        },
        "outputId": "727c666f-f0bb-4aac-cd32-e80cc179034d"
      },
      "source": [
        "0*np.log2(0)"
      ],
      "execution_count": null,
      "outputs": [
        {
          "output_type": "stream",
          "text": [
            "/usr/local/lib/python3.6/dist-packages/ipykernel_launcher.py:1: RuntimeWarning: divide by zero encountered in log2\n",
            "  \"\"\"Entry point for launching an IPython kernel.\n",
            "/usr/local/lib/python3.6/dist-packages/ipykernel_launcher.py:1: RuntimeWarning: invalid value encountered in double_scalars\n",
            "  \"\"\"Entry point for launching an IPython kernel.\n"
          ],
          "name": "stderr"
        },
        {
          "output_type": "execute_result",
          "data": {
            "text/plain": [
              "nan"
            ]
          },
          "metadata": {
            "tags": []
          },
          "execution_count": 9
        }
      ]
    },
    {
      "cell_type": "code",
      "metadata": {
        "id": "ts4rJ7SyrfFY"
      },
      "source": [
        "import sympy\n",
        "from sympy.abc import x\n",
        "# sympy.init_printing()"
      ],
      "execution_count": null,
      "outputs": []
    },
    {
      "cell_type": "code",
      "metadata": {
        "id": "rKuwPCa4tPD2",
        "colab": {
          "base_uri": "https://localhost:8080/"
        },
        "outputId": "f855c3d5-9a16-4dff-d914-be8a10ecb49b"
      },
      "source": [
        "0*sympy.log(0)"
      ],
      "execution_count": null,
      "outputs": [
        {
          "output_type": "execute_result",
          "data": {
            "text/plain": [
              "nan"
            ]
          },
          "metadata": {
            "tags": []
          },
          "execution_count": 11
        }
      ]
    },
    {
      "cell_type": "markdown",
      "metadata": {
        "id": "m_owAICPtYBv"
      },
      "source": [
        "極限であればOK"
      ]
    },
    {
      "cell_type": "code",
      "metadata": {
        "id": "MClDzZ9TrNBn"
      },
      "source": [
        "f = sympy.limit(x*sympy.log(x),x,0)"
      ],
      "execution_count": null,
      "outputs": []
    },
    {
      "cell_type": "code",
      "metadata": {
        "id": "Yhbres0UsVZ-",
        "colab": {
          "base_uri": "https://localhost:8080/"
        },
        "outputId": "be1ca47d-bb47-43f6-dc3a-8f0e14289593"
      },
      "source": [
        "print(f)"
      ],
      "execution_count": null,
      "outputs": [
        {
          "output_type": "stream",
          "text": [
            "0\n"
          ],
          "name": "stdout"
        }
      ]
    }
  ]
}