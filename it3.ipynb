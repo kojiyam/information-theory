{
  "nbformat": 4,
  "nbformat_minor": 0,
  "metadata": {
    "colab": {
      "name": "it3.ipynb",
      "provenance": [],
      "collapsed_sections": [],
      "authorship_tag": "ABX9TyPGDCuGW9Yyzu7jW9zyxEkG",
      "include_colab_link": true
    },
    "kernelspec": {
      "name": "python3",
      "display_name": "Python 3"
    }
  },
  "cells": [
    {
      "cell_type": "markdown",
      "metadata": {
        "id": "view-in-github",
        "colab_type": "text"
      },
      "source": [
        "<a href=\"https://colab.research.google.com/github/kojiyam/information-theory/blob/main/it3.ipynb\" target=\"_parent\"><img src=\"https://colab.research.google.com/assets/colab-badge.svg\" alt=\"Open In Colab\"/></a>"
      ]
    },
    {
      "cell_type": "markdown",
      "metadata": {
        "id": "E0DGfcEEnOI_"
      },
      "source": [
        "# 巡回符号"
      ]
    },
    {
      "cell_type": "markdown",
      "metadata": {
        "id": "b85K8iJqKdMN"
      },
      "source": [
        "参考 https://stackoverflow.com/questions/14173007/polynomial-with-modular-coefficients-library-in-python\n",
        "\n",
        "https://numpy.org/doc/stable/reference/generated/numpy.poly1d.html#numpy.poly1d\n",
        "\n",
        "https://stackoverflow.com/questions/28646336/pretty-printing-polynomials-in-ipython-notebook (表記)\n"
      ]
    },
    {
      "cell_type": "code",
      "metadata": {
        "id": "CgLrfZkuKaGO"
      },
      "source": [
        "# import numpy.polynomial.polynomial\n",
        "import numpy as np"
      ],
      "execution_count": 1,
      "outputs": []
    },
    {
      "cell_type": "code",
      "metadata": {
        "id": "x3uSWPFqU3Tp"
      },
      "source": [
        "# 表示だけ．計算には不要\n",
        "import sympy\n",
        "from sympy.abc import x\n",
        "sympy.init_printing()\n",
        "def printp(poly):\n",
        "  return sympy.Poly(poly.coef,x).as_expr()"
      ],
      "execution_count": 2,
      "outputs": []
    },
    {
      "cell_type": "markdown",
      "metadata": {
        "id": "ESWbCRtUPcAS"
      },
      "source": [
        "## 実数体上の多項式 $\\mathbb{R}[x]$ とその演算を Python + NumPy で行う方法\n",
        "\n",
        "この計算は，（教科書で出てくる）整数環上の多項式 $\\mathbb{Z}[x]$ の演算ではない\n",
        "\n"
      ]
    },
    {
      "cell_type": "code",
      "metadata": {
        "id": "djDXHN5VKqMz",
        "colab": {
          "base_uri": "https://localhost:8080/"
        },
        "outputId": "e524232d-2725-4913-a4c5-f8ac90c37ece"
      },
      "source": [
        "A = np.poly1d([1,2,3,4])\n",
        "print(A)"
      ],
      "execution_count": 13,
      "outputs": [
        {
          "output_type": "stream",
          "text": [
            "   3     2\n",
            "1 x + 2 x + 3 x + 4\n"
          ],
          "name": "stdout"
        }
      ]
    },
    {
      "cell_type": "code",
      "metadata": {
        "id": "qsmOcq0SVoor",
        "colab": {
          "base_uri": "https://localhost:8080/",
          "height": 38
        },
        "outputId": "2948f230-e991-45b6-deeb-31ea864be416"
      },
      "source": [
        "printp(A)"
      ],
      "execution_count": 4,
      "outputs": [
        {
          "output_type": "execute_result",
          "data": {
            "image/png": "[encoded data removed]",
            "text/latex": "$$x^{3} + 2 x^{2} + 3 x + 4$$",
            "text/plain": [
              " 3      2          \n",
              "x  + 2⋅x  + 3⋅x + 4"
            ]
          },
          "metadata": {
            "tags": []
          },
          "execution_count": 4
        }
      ]
    },
    {
      "cell_type": "code",
      "metadata": {
        "id": "ehEmehW1P61U",
        "colab": {
          "base_uri": "https://localhost:8080/",
          "height": 38
        },
        "outputId": "187fc5f8-a00e-4178-be36-675761279152"
      },
      "source": [
        "# 加算，減算，乗算\n",
        "A = np.poly1d([1,2])\n",
        "B = np.poly1d([1,1])\n",
        "printp( A + B ), printp( A - B ), printp( A * B )"
      ],
      "execution_count": 5,
      "outputs": [
        {
          "output_type": "execute_result",
          "data": {
            "image/png": "[encoded data removed]",
            "text/latex": "$$\\left ( 2 x + 3, \\quad 1, \\quad x^{2} + 3 x + 2\\right )$$",
            "text/plain": [
              "⎛             2          ⎞\n",
              "⎝2⋅x + 3, 1, x  + 3⋅x + 2⎠"
            ]
          },
          "metadata": {
            "tags": []
          },
          "execution_count": 5
        }
      ]
    },
    {
      "cell_type": "code",
      "metadata": {
        "id": "utcQSYe2QQPM",
        "colab": {
          "base_uri": "https://localhost:8080/"
        },
        "outputId": "510163a6-29dc-4a2e-8dc2-6a515782dc7a"
      },
      "source": [
        "# 除算\n",
        "A = np.poly1d([1,2,3])\n",
        "B = np.poly1d([1,1])\n",
        "A / B"
      ],
      "execution_count": 11,
      "outputs": [
        {
          "output_type": "execute_result",
          "data": {
            "text/plain": [
              "(poly1d([1., 1.]), poly1d([2.]))"
            ]
          },
          "metadata": {
            "tags": []
          },
          "execution_count": 11
        }
      ]
    },
    {
      "cell_type": "code",
      "metadata": {
        "id": "jWMMeu2eQoGX",
        "colab": {
          "base_uri": "https://localhost:8080/",
          "height": 38
        },
        "outputId": "06571ec8-afd9-45be-d9e4-ad7eebacc54f"
      },
      "source": [
        "printp( (A / B)[0] )"
      ],
      "execution_count": 7,
      "outputs": [
        {
          "output_type": "execute_result",
          "data": {
            "image/png": "[encoded data removed]",
            "text/latex": "$$1.0 x + 1.0$$",
            "text/plain": [
              "1.0⋅x + 1.0"
            ]
          },
          "metadata": {
            "tags": []
          },
          "execution_count": 7
        }
      ]
    },
    {
      "cell_type": "code",
      "metadata": {
        "id": "ME5r8fy9QhBM",
        "colab": {
          "base_uri": "https://localhost:8080/",
          "height": 37
        },
        "outputId": "bf5a39ef-e206-4a1e-ea38-f99caccafe99"
      },
      "source": [
        "printp( (A / B)[1] )"
      ],
      "execution_count": 8,
      "outputs": [
        {
          "output_type": "execute_result",
          "data": {
            "image/png": "[encoded data removed]",
            "text/latex": "$$2.0$$",
            "text/plain": [
              "2.00000000000000"
            ]
          },
          "metadata": {
            "tags": []
          },
          "execution_count": 8
        }
      ]
    },
    {
      "cell_type": "markdown",
      "metadata": {
        "id": "uBFVwzj7Njrv"
      },
      "source": [
        "A/Bは商と剰余．(A/B)[1]とすると剰余だけ"
      ]
    },
    {
      "cell_type": "markdown",
      "metadata": {
        "id": "sdkea7LERAAv"
      },
      "source": [
        "## 有限体上の多項式 $\\mathbb{F}_2[x]$ の演算\n",
        "\n",
        "係数を(0,1)に限って$\\mathbb{R}[x]$ の演算を行った後で mod 2すればよい（例外的なものがあるかもしれない）"
      ]
    },
    {
      "cell_type": "code",
      "metadata": {
        "id": "7GnVk_8PLcQO",
        "colab": {
          "base_uri": "https://localhost:8080/",
          "height": 38
        },
        "outputId": "a435bb8b-7f7f-42fe-a0f8-c0b6e05bf189"
      },
      "source": [
        "X = np.poly1d([1,1,1,0])\n",
        "G = np.poly1d([1,0,1,1])\n",
        "printp(X), printp(G)"
      ],
      "execution_count": 14,
      "outputs": [
        {
          "output_type": "execute_result",
          "data": {
            "image/png": "[encoded data removed]",
            "text/latex": "$$\\left ( x^{3} + x^{2} + x, \\quad x^{3} + x + 1\\right )$$",
            "text/plain": [
              "⎛ 3    2       3        ⎞\n",
              "⎝x  + x  + x, x  + x + 1⎠"
            ]
          },
          "metadata": {
            "tags": []
          },
          "execution_count": 14
        }
      ]
    },
    {
      "cell_type": "code",
      "metadata": {
        "id": "pcK1qOBrhiqQ",
        "colab": {
          "base_uri": "https://localhost:8080/",
          "height": 38
        },
        "outputId": "5f93beaf-e171-4d0f-cc6b-60288b31c181"
      },
      "source": [
        "xm = np.poly1d( [1] + [0] * G.order )\n",
        "printp(xm)"
      ],
      "execution_count": 15,
      "outputs": [
        {
          "output_type": "execute_result",
          "data": {
            "image/png": "[encoded data removed]",
            "text/latex": "$$x^{3}$$",
            "text/plain": [
              " 3\n",
              "x "
            ]
          },
          "metadata": {
            "tags": []
          },
          "execution_count": 15
        }
      ]
    },
    {
      "cell_type": "markdown",
      "metadata": {
        "id": "M1CsQB_lfAEq"
      },
      "source": [
        "$ x^m = x^{\\mathrm{deg}(G)}$"
      ]
    },
    {
      "cell_type": "code",
      "metadata": {
        "id": "QUYS8uekSGbi",
        "colab": {
          "base_uri": "https://localhost:8080/",
          "height": 38
        },
        "outputId": "55cf68f8-4f44-428d-e94a-91f93a0c39ff"
      },
      "source": [
        "printp( (X*xm/G)[1] )"
      ],
      "execution_count": 16,
      "outputs": [
        {
          "output_type": "execute_result",
          "data": {
            "image/png": "[encoded data removed]",
            "text/latex": "$$- 1.0 x^{2} + 2.0 x + 2.0$$",
            "text/plain": [
              "       2              \n",
              "- 1.0⋅x  + 2.0⋅x + 2.0"
            ]
          },
          "metadata": {
            "tags": []
          },
          "execution_count": 16
        }
      ]
    },
    {
      "cell_type": "code",
      "metadata": {
        "id": "cbL_2aQHLx9O",
        "colab": {
          "base_uri": "https://localhost:8080/"
        },
        "outputId": "342e90d4-3d44-4520-e7f8-57ca8dceb05f"
      },
      "source": [
        "np.remainder( (X*xm/G)[1], 2 )"
      ],
      "execution_count": 17,
      "outputs": [
        {
          "output_type": "execute_result",
          "data": {
            "text/plain": [
              "array([1., 0., 0.])"
            ]
          },
          "metadata": {
            "tags": []
          },
          "execution_count": 17
        }
      ]
    },
    {
      "cell_type": "code",
      "metadata": {
        "id": "JqVAedoNSYno",
        "colab": {
          "base_uri": "https://localhost:8080/",
          "height": 38
        },
        "outputId": "70fc6368-743c-4b55-c637-b316be9ef76f"
      },
      "source": [
        "printp( np.poly1d( np.remainder( (X*xm/G)[1], 2 ) ) )"
      ],
      "execution_count": 18,
      "outputs": [
        {
          "output_type": "execute_result",
          "data": {
            "image/png": "[encoded data removed]",
            "text/latex": "$$1.0 x^{2}$$",
            "text/plain": [
              "     2\n",
              "1.0⋅x "
            ]
          },
          "metadata": {
            "tags": []
          },
          "execution_count": 18
        }
      ]
    },
    {
      "cell_type": "markdown",
      "metadata": {
        "id": "3wFcWKvXM6rt"
      },
      "source": [
        "np.remainderは正の値，np.fmodはdividendと同じ符号"
      ]
    },
    {
      "cell_type": "code",
      "metadata": {
        "id": "QH_2F-zHNBGR",
        "colab": {
          "base_uri": "https://localhost:8080/"
        },
        "outputId": "89bc4c81-d93d-4d2c-dd8e-b024fe7f0331"
      },
      "source": [
        "np.remainder(-5,3), np.fmod(-5,3)"
      ],
      "execution_count": 19,
      "outputs": [
        {
          "output_type": "execute_result",
          "data": {
            "text/plain": [
              "(1, -2)"
            ]
          },
          "metadata": {
            "tags": []
          },
          "execution_count": 19
        }
      ]
    },
    {
      "cell_type": "code",
      "metadata": {
        "id": "jKf_O7Ioo_fo"
      },
      "source": [
        "## 4週目．巡回ハミング符号．単一誤りパターンに対するシンドロームの計算"
      ],
      "execution_count": 20,
      "outputs": []
    },
    {
      "cell_type": "code",
      "metadata": {
        "id": "vCemZnrndmBX",
        "colab": {
          "base_uri": "https://localhost:8080/"
        },
        "outputId": "b6619bd3-e283-4db2-e8c5-97c43a859f91"
      },
      "source": [
        "for i in range(7):\n",
        "  E = np.poly1d( [1] + [0] * i )\n",
        "  S = np.poly1d( np.remainder( (E/G)[1], 2 ) )\n",
        "  print(E), print(S), print('---')"
      ],
      "execution_count": 21,
      "outputs": [
        {
          "output_type": "stream",
          "text": [
            " \n",
            "1\n",
            " \n",
            "1\n",
            "---\n",
            " \n",
            "1 x\n",
            " \n",
            "1 x\n",
            "---\n",
            "   2\n",
            "1 x\n",
            "   2\n",
            "1 x\n",
            "---\n",
            "   3\n",
            "1 x\n",
            " \n",
            "1 x + 1\n",
            "---\n",
            "   4\n",
            "1 x\n",
            "   2\n",
            "1 x + 1 x\n",
            "---\n",
            "   5\n",
            "1 x\n",
            "   2\n",
            "1 x + 1 x + 1\n",
            "---\n",
            "   6\n",
            "1 x\n",
            "   2\n",
            "1 x + 1\n",
            "---\n"
          ],
          "name": "stdout"
        }
      ]
    },
    {
      "cell_type": "markdown",
      "metadata": {
        "id": "DutHPMXZoZ-y"
      },
      "source": [
        "forループの中ではprintpは動かないみたい"
      ]
    },
    {
      "cell_type": "markdown",
      "metadata": {
        "id": "LFFCgfyWKrc_"
      },
      "source": [
        "### 参考\n",
        "\n",
        "SymPyに，$ \\mathbb{F}_2[x]$ をちゃんと計算する方法はある\n",
        "\n",
        "ただし，上記の方が筆算の途中経過等が分かりやすいと思われる\n",
        "\n",
        "https://docs.sympy.org/latest/modules/polys/internals.html\n",
        "\n",
        "https://stackoverflow.com/questions/48065360/interpolate-polynomial-over-a-finite-field?rq=1"
      ]
    },
    {
      "cell_type": "code",
      "metadata": {
        "id": "9n7B0UiuKrCi",
        "colab": {
          "base_uri": "https://localhost:8080/"
        },
        "outputId": "d0c1ca66-5789-4b15-d87d-4432bd2e1caf"
      },
      "source": [
        "from sympy.polys.domains import ZZ\n",
        "from sympy.polys.galoistools import gf_div, gf_add_mul\n",
        "print(gf_div(ZZ.map([1,1,1,0,0,0,0]), ZZ.map([1,0,1,1]), 2, ZZ)[1])"
      ],
      "execution_count": 24,
      "outputs": [
        {
          "output_type": "stream",
          "text": [
            "[1, 0, 0]\n"
          ],
          "name": "stdout"
        }
      ]
    },
    {
      "cell_type": "code",
      "metadata": {
        "id": "Fymf8htLoHIg",
        "colab": {
          "base_uri": "https://localhost:8080/",
          "height": 38
        },
        "outputId": "ad4e45e8-0bff-424c-d140-39247c260c6d"
      },
      "source": [
        "P = ZZ.map([1,1,1,0,0,0,0])\n",
        "sympy.Poly(P,x).as_expr()"
      ],
      "execution_count": 25,
      "outputs": [
        {
          "output_type": "execute_result",
          "data": {
            "image/png": "[encoded data removed]",
            "text/latex": "$$x^{6} + x^{5} + x^{4}$$",
            "text/plain": [
              " 6    5    4\n",
              "x  + x  + x "
            ]
          },
          "metadata": {
            "tags": []
          },
          "execution_count": 25
        }
      ]
    }
  ]
}