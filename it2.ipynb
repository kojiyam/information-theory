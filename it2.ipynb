{
  "nbformat": 4,
  "nbformat_minor": 0,
  "metadata": {
    "colab": {
      "name": "it2.ipynb",
      "provenance": [],
      "collapsed_sections": [],
      "authorship_tag": "ABX9TyP4NL9AWCzIRGr1AMfMsg68",
      "include_colab_link": true
    },
    "kernelspec": {
      "name": "python3",
      "display_name": "Python 3"
    }
  },
  "cells": [
    {
      "cell_type": "markdown",
      "metadata": {
        "id": "view-in-github",
        "colab_type": "text"
      },
      "source": [
        "<a href=\"https://colab.research.google.com/github/kojiyam/information-theory/blob/main/it2.ipynb\" target=\"_parent\"><img src=\"https://colab.research.google.com/assets/colab-badge.svg\" alt=\"Open In Colab\"/></a>"
      ]
    },
    {
      "cell_type": "markdown",
      "metadata": {
        "id": "MqdnWBdBjvWQ"
      },
      "source": [
        "## ハミング符号化\n",
        "\n",
        "教科書だとインデックスは1から\n",
        "\n",
        "Pythonはインデックスは0から始まるので，読み替え必要\n",
        "\n",
        "Shift+Enterで実行"
      ]
    },
    {
      "cell_type": "code",
      "metadata": {
        "id": "VAWJdVG6jH2T"
      },
      "source": [
        "# 今回だけであればNumPyを使うほどではなく，若干可読性が下がるが\n",
        "# 今後の講義でNumPyを使うので，混乱しないようにあえてNumPyベースで記載しています\n",
        "import numpy as np"
      ],
      "execution_count": null,
      "outputs": []
    },
    {
      "cell_type": "code",
      "metadata": {
        "id": "j3W76FIdg_9a"
      },
      "source": [
        "X = np.array([1,0,1,0])"
      ],
      "execution_count": null,
      "outputs": []
    },
    {
      "cell_type": "code",
      "metadata": {
        "colab": {
          "base_uri": "https://localhost:8080/"
        },
        "id": "kbqtZs6JbtIr",
        "outputId": "adfa18f9-9d8c-4edc-da0b-821a80c144b6"
      },
      "source": [
        "print(X)"
      ],
      "execution_count": null,
      "outputs": [
        {
          "output_type": "stream",
          "text": [
            "[1 0 1 0]\n"
          ],
          "name": "stdout"
        }
      ]
    },
    {
      "cell_type": "code",
      "metadata": {
        "id": "HL25RxW6hH3p"
      },
      "source": [
        "c1 = np.fmod(X[0]+X[1]+X[2],      2)\n",
        "c2 = np.fmod(     X[1]+X[2]+X[3], 2)\n",
        "c3 = np.fmod(X[0]+X[1]     +X[3], 2)"
      ],
      "execution_count": null,
      "outputs": []
    },
    {
      "cell_type": "code",
      "metadata": {
        "id": "G02oC-_HilU5",
        "colab": {
          "base_uri": "https://localhost:8080/"
        },
        "outputId": "cc2806b4-9892-45dc-8f6c-96f034068da7"
      },
      "source": [
        "print([c1,c2,c3])"
      ],
      "execution_count": null,
      "outputs": [
        {
          "output_type": "stream",
          "text": [
            "[0, 1, 1]\n"
          ],
          "name": "stdout"
        }
      ]
    },
    {
      "cell_type": "markdown",
      "metadata": {
        "id": "4izUtKYBlKAk"
      },
      "source": [
        "## シンドローム復号"
      ]
    },
    {
      "cell_type": "code",
      "metadata": {
        "id": "YZX-E94mjFaG"
      },
      "source": [
        "Y = np.array([1,0,0,1,1,0,0])"
      ],
      "execution_count": null,
      "outputs": []
    },
    {
      "cell_type": "code",
      "metadata": {
        "id": "UnpOhkWfkVPo",
        "colab": {
          "base_uri": "https://localhost:8080/"
        },
        "outputId": "30e292a5-23c4-4d71-e630-2c2f8d9115ec"
      },
      "source": [
        "s1 = np.fmod(Y[0]+Y[1]+Y[2]     +Y[4]          ,2)\n",
        "s2 = np.fmod(     Y[1]+Y[2]+Y[3]     +Y[5]     ,2)\n",
        "s3 = np.fmod(Y[0]+Y[1]     +Y[3]+         +Y[6],2)\n",
        "print([s1,s2,s3])"
      ],
      "execution_count": null,
      "outputs": [
        {
          "output_type": "stream",
          "text": [
            "[0, 1, 0]\n"
          ],
          "name": "stdout"
        }
      ]
    }
  ]
}